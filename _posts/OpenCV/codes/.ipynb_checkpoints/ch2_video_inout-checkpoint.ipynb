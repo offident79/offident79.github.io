{
 "cells": [
  {
   "cell_type": "markdown",
   "metadata": {},
   "source": [
    "# 1. 동영상 파일 읽기\n"
   ]
  },
  {
   "cell_type": "code",
   "execution_count": 1,
   "metadata": {},
   "outputs": [],
   "source": [
    "import cv2\n",
    "\n",
    "video_file = \"../source/video_sample.mp4\"\n",
    "\n",
    "cap = cv2.VideoCapture(video_file)\n",
    "if cap.isOpened(): # 장치의 연결이 제대로 되었는지 확인이 가능하다. \n",
    "    while True:\n",
    "        ret, img = cap.read() #프레임을 읽는 것 (boolean, numpy 로 객체를 반환한다.)\n",
    "        if ret: \n",
    "            cv2.imshow(video_file, img)\n",
    "            cv2.waitKey(25) # 25ms로 지연시키는 것(40fps로 가정)\n",
    "            #fps 는 1초개 몇 개의 그림이 들어가는 가 하는 공식을 의미한다.\n",
    "        else:\n",
    "            break\n",
    "else:\n",
    "    print(\"can't open video\")\n",
    "    \n",
    "cap.release() #자원을 반납해야 한다.\n",
    "cv2.destroyAllWindows() # 윈도우 끄기"
   ]
  },
  {
   "cell_type": "markdown",
   "metadata": {},
   "source": [
    "위 동영상 파일 읽기에서 중요한 부분은 주석으로 처리 하였고, \n",
    "$fps(frame \\quad per \\quad second)$를 구하는 공식은 다음과 같다.\n",
    "$$\n",
    "지연시간 = {1000} \\div {fps}\n",
    "$$\n",
    "여기서 1000 으로 계산하는 이유는 1초를 1$ms$ 단위로 환산해서 제공해야 하기 때문. \n",
    "그러므로, $fps$ 를 40으로 가정해서 대입하는 결과는 다음과 같음\n",
    "$$\n",
    "25 = 1000 \\div 40\n",
    "$$\n"
   ]
  },
  {
   "cell_type": "markdown",
   "metadata": {},
   "source": [
    "# 2. FPS 를 지정해서 동영상 재생하기"
   ]
  },
  {
   "cell_type": "code",
   "execution_count": 13,
   "metadata": {},
   "outputs": [
    {
     "name": "stdout",
     "output_type": "stream",
     "text": [
      "FPS: 23.999250, Delay: 41 ms\n",
      "Original Width: 988, Height: 480\n",
      "Resized Width: 988, Height: 480\n"
     ]
    }
   ],
   "source": [
    "import cv2\n",
    "\n",
    "video_file = \"../source/video_sample.mp4\"\n",
    "\n",
    "cap = cv2.VideoCapture(video_file)\n",
    "\n",
    "if cap.isOpened(): # 장치의 연결이 제대로 되었는지 확인이 가능하다. \n",
    "    \n",
    "    fps = cap.get(cv2.CAP_PROP_FPS) #프레임 수 구하기\n",
    "    delay = int(1000/fps)\n",
    "    print(\"FPS: %f, Delay: %d ms\" % (fps, delay))\n",
    "    \n",
    "    #===========================================================\n",
    "    \n",
    "    while True:\n",
    "        ret, img = cap.read() #프레임을 읽는 것 (boolean, numpy 로 객체를 반환한다.)\n",
    "        if ret: \n",
    "            cv2.imshow(video_file, img)\n",
    "            cv2.waitKey(25) # 25ms로 지연시키는 것(40fps로 가정)\n",
    "            #fps 는 1초개 몇 개의 그림이 들어가는 가 하는 공식을 의미한다.\n",
    "        else:\n",
    "            break\n",
    "else:\n",
    "    print(\"can't open video\")\n",
    "    \n",
    "cap.release() #자원을 반납해야 한다.\n",
    "cv2.destroyAllWindows() # 윈도우 끄기"
   ]
  },
  {
   "cell_type": "markdown",
   "metadata": {},
   "source": [
    "# 3.Video Camera 사용하기"
   ]
  },
  {
   "cell_type": "code",
   "execution_count": 16,
   "metadata": {},
   "outputs": [
    {
     "name": "stdout",
     "output_type": "stream",
     "text": [
      "FPS: 30.000000, Delay: 33 ms\n",
      "Original Width: 640, Height: 480\n",
      "Resized Width: 320, Height: 240\n"
     ]
    },
    {
     "ename": "NameError",
     "evalue": "name 'c2' is not defined",
     "output_type": "error",
     "traceback": [
      "\u001b[1;31m---------------------------------------------------------------------------\u001b[0m",
      "\u001b[1;31mNameError\u001b[0m                                 Traceback (most recent call last)",
      "\u001b[1;32m<ipython-input-16-938655b90d51>\u001b[0m in \u001b[0;36m<module>\u001b[1;34m()\u001b[0m\n\u001b[0;32m     26\u001b[0m         \u001b[1;32mif\u001b[0m \u001b[0mret\u001b[0m\u001b[1;33m:\u001b[0m\u001b[1;33m\u001b[0m\u001b[0m\n\u001b[0;32m     27\u001b[0m             \u001b[0mcv2\u001b[0m\u001b[1;33m.\u001b[0m\u001b[0mimshow\u001b[0m\u001b[1;33m(\u001b[0m\u001b[0mvideo_file\u001b[0m\u001b[1;33m,\u001b[0m \u001b[0mimg\u001b[0m\u001b[1;33m)\u001b[0m\u001b[1;33m\u001b[0m\u001b[0m\n\u001b[1;32m---> 28\u001b[1;33m             \u001b[1;32mif\u001b[0m \u001b[0mc2\u001b[0m\u001b[1;33m.\u001b[0m\u001b[0mwaitKey\u001b[0m\u001b[1;33m(\u001b[0m\u001b[1;36m1\u001b[0m\u001b[1;33m)\u001b[0m \u001b[1;33m!=\u001b[0m \u001b[1;33m-\u001b[0m\u001b[1;36m1\u001b[0m\u001b[1;33m:\u001b[0m\u001b[1;33m\u001b[0m\u001b[0m\n\u001b[0m\u001b[0;32m     29\u001b[0m                 \u001b[0mcv2\u001b[0m\u001b[1;33m.\u001b[0m\u001b[0mimwrite\u001b[0m\u001b[1;33m(\u001b[0m\u001b[1;34m\"../source/saved_photo.jpg\"\u001b[0m\u001b[1;33m,\u001b[0m \u001b[0mframe\u001b[0m\u001b[1;33m)\u001b[0m\u001b[1;33m\u001b[0m\u001b[0m\n\u001b[0;32m     30\u001b[0m                 \u001b[1;32mbreak\u001b[0m\u001b[1;33m\u001b[0m\u001b[0m\n",
      "\u001b[1;31mNameError\u001b[0m: name 'c2' is not defined"
     ]
    }
   ],
   "source": [
    "import cv2\n",
    "\n",
    "cap = cv2.VideoCapture(0)\n",
    "\n",
    "if cap.isOpened(): # 장치의 연결이 제대로 되었는지 확인이 가능하다. \n",
    "    fps = cap.get(cv2.CAP_PROP_FPS) #프레임 수 구하기\n",
    "    delay = int(1000/fps)\n",
    "    print(\"FPS: %f, Delay: %d ms\" % (fps, delay))\n",
    "    \n",
    "    #==========  폭과 높이 재지정해서 플레이 하기 ============\n",
    "    \n",
    "    width = cap.get(cv2.CAP_PROP_FRAME_WIDTH)\n",
    "    height = cap.get(cv2.CAP_PROP_FRAME_HEIGHT)\n",
    "    print(\"Original Width: %d, Height: %d\" % (width, height))\n",
    "    \n",
    "    cap.set(cv2.CAP_PROP_FRAME_WIDTH, 320) #프레임 폭을 320으로 조정\n",
    "    cap.set(cv2.CAP_PROP_FRAME_HEIGHT, 240)  #프레임 높이를 240으로 조정\n",
    "    width = cap.get(cv2.CAP_PROP_FRAME_WIDTH)\n",
    "    height = cap.get(cv2.CAP_PROP_FRAME_HEIGHT)\n",
    "    print(\"Resized Width: %d, Height: %d\" % (width, height))\n",
    "    \n",
    "    #===========================================================\n",
    "    \n",
    "    while True:\n",
    "        ret, img = cap.read() #프레임을 읽는 것 (boolean, numpy 로 객체를 반환한다.)\n",
    "        if ret: \n",
    "            cv2.imshow(video_file, img)\n",
    "            if cv2.waitKey(1) != -1:\n",
    "                cv2.imwrite(\"../source/saved_photo.jpg\", frame)\n",
    "                break\n",
    "            cv2.waitKey(25) # 25ms로 지연시키는 것(40fps로 가정)\n",
    "            #fps 는 1초개 몇 개의 그림이 들어가는 가 하는 공식을 의미한다.\n",
    "        else:\n",
    "            break\n",
    "else:\n",
    "    print(\"can't open video\")\n",
    "    \n",
    "cap.release() #자원을 반납해야 한다.\n",
    "cv2.destroyAllWindows() # 윈도우 끄기"
   ]
  },
  {
   "cell_type": "code",
   "execution_count": null,
   "metadata": {},
   "outputs": [],
   "source": []
  }
 ],
 "metadata": {
  "kernelspec": {
   "display_name": "Python 3",
   "language": "python",
   "name": "python3"
  },
  "language_info": {
   "codemirror_mode": {
    "name": "ipython",
    "version": 3
   },
   "file_extension": ".py",
   "mimetype": "text/x-python",
   "name": "python",
   "nbconvert_exporter": "python",
   "pygments_lexer": "ipython3",
   "version": "3.6.5"
  }
 },
 "nbformat": 4,
 "nbformat_minor": 2
}
